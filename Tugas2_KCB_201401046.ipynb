{
  "nbformat": 4,
  "nbformat_minor": 0,
  "metadata": {
    "colab": {
      "provenance": [],
      "gpuType": "T4",
      "include_colab_link": true
    },
    "kernelspec": {
      "name": "python3",
      "display_name": "Python 3"
    },
    "language_info": {
      "name": "python"
    },
    "gpuClass": "standard"
  },
  "cells": [
    {
      "cell_type": "markdown",
      "metadata": {
        "id": "view-in-github",
        "colab_type": "text"
      },
      "source": [
        "<a href=\"https://colab.research.google.com/github/erickyudha/furniture-customer-kmeans/blob/main/Tugas2_KCB_201401046.ipynb\" target=\"_parent\"><img src=\"https://colab.research.google.com/assets/colab-badge.svg\" alt=\"Open In Colab\"/></a>"
      ]
    },
    {
      "cell_type": "markdown",
      "source": [
        "# **Tugas 2 Laboratorium Kecerdasan Buatan - K-Means**\n",
        "Erick Yudha Pratama Sukku / 201401046"
      ],
      "metadata": {
        "id": "1JaUecXC89JV"
      }
    },
    {
      "cell_type": "markdown",
      "source": [
        "Di tugas ini, anda bertugas untuk melakukan beberapa hal. \n",
        "\n",
        "* **Upload dataset pelanggan yang diberikan dan lakukan preprocessing (jika perlu) untuk menghapus data yang tidak valid atau kosong. (Dataset dapat dicari atau dibuat sendiri, apabila dicari, silahkan tinggalkan file atau link dataset di submission).**\n",
        "\n",
        "* **Implementasikan K-Means Clustering dengan Google Colab untuk membagi data pelanggan menjadi kelompok berdasarkan preferensi mereka. Kamu dapat menentukan jumlah cluster (k) berdasarkan hasil analisis atau pengalaman**\n",
        "\n",
        "* **Evaluasi model clustering yang dibuat menggunakan Skor Silhouette (Gunakan Library sklearn untuk mempermudah perhitungan)**\n",
        "\n",
        "* **Visualisasikan cluster yang dihasilkan dalam plot yang tepat, seperti scatter plot atau heatmap.**\n",
        "\n",
        "* **Simpulkan hasil yang kamu dapatkan dari model kamu.**"
      ],
      "metadata": {
        "id": "s2p9uy4k9PXa"
      }
    },
    {
      "cell_type": "markdown",
      "source": [
        "## Import Library"
      ],
      "metadata": {
        "id": "gDYx8MP--IMf"
      }
    },
    {
      "cell_type": "markdown",
      "source": [
        "Disini lakukan import terhadap library yang anda butuhkan. Ingat bahwa anda perlu melakukan pengumpulan dan membangun dataset, memahami kondisi data secara visual, melihat kondisi statistik deskriptif dan persebaran data."
      ],
      "metadata": {
        "id": "Sc9ckTMC--d9"
      }
    },
    {
      "cell_type": "code",
      "source": [
        "# Import library\n",
        "import pandas as pd\n",
        "import random"
      ],
      "metadata": {
        "id": "ykHKpjef_rVl"
      },
      "execution_count": 677,
      "outputs": []
    },
    {
      "cell_type": "markdown",
      "source": [
        "## Load Dataset"
      ],
      "metadata": {
        "id": "AfC_9h0b-KEC"
      }
    },
    {
      "cell_type": "markdown",
      "source": [
        "Sebelumnya, karena kesulitan mencari dataset, dataset akan di generate menggunakan program Python dengan kriteria berikut:\n",
        "\n",
        "\n",
        "*   Daftar Kolom: usia, pendapatan, pengeluaran\n",
        "(untuk produk rumah tangga), pendidikan_akhir, dan status_perkawinan.\n",
        "\n",
        "*   Persyaratan khusus dalam kolom yang akan digenerate adalah sebagai berikut:\n",
        "1. usia: random dalam range di atas 20 tahun dengan mayoritas frekuensi di sekitar 30-45 tahunan (integer)\n",
        "2. pendapatan: pendapatan per bulan, random dalam range diatas 3,5 juta sampai 50 juta, frekuensi mayoritas di 5-12 juta IDR. (integer)\n",
        "3. pengeluaran: random dalam range 5-50% pendapatan per bulan, dengan frekuensi mayoritas antara 10-25%, selain itu makin tinggi pendapatan semakin tinggi pengeluran juga. Format pengeluaran adalah IDR (integer)\n",
        "4. pendidikan_akhir: [SD, SMP, SMA, D4/S1, S2, S3], semakin tinggi pendapatan kemungkinan pendidikan akhir tinggi semakin mungkin\n",
        "5. status_perkawinan: [0, 1] random."
      ],
      "metadata": {
        "id": "YNZgxKtyOYHt"
      }
    },
    {
      "cell_type": "code",
      "source": [
        "# Membuat list usia dengan mayoritas di sekitar 30-45 tahun\n",
        "usia = [random.randint(25, 30) for i in range(4000)]\n",
        "usia += [random.randint(30, 45) for i in range(3200)]\n",
        "usia += [random.randint(46, 60) for i in range(1500)]\n",
        "\n",
        "# Membuat list pendapatan dengan mayoritas di sekitar 5-12 juta\n",
        "pendapatan = []\n",
        "for u in usia:\n",
        "    if u < 35:\n",
        "      pendapatan.append((u * random.randint(u * 4500, u * 20000)))\n",
        "    elif u < 45:\n",
        "      pendapatan.append((u * random.randint(u * 4000, u * 10000)))\n",
        "    else:\n",
        "      pendapatan.append((u * random.randint(u * 3500, u * 8000)))\n",
        "\n",
        "# Membuat list pengeluaran dengan mayoritas antara 10-30% dari pendapatan\n",
        "pengeluaran = []\n",
        "for p in pendapatan:\n",
        "    if p <= 10000000:\n",
        "        pengeluaran.append(random.randint(int(p*0.01), int(p*0.05)))\n",
        "    elif p <= 25000000:\n",
        "        pengeluaran.append(random.randint(int(p*0.12), int(p*0.18)))\n",
        "    else:\n",
        "        pengeluaran.append(random.randint(int(p*0.24), int(p*0.3)))\n",
        "\n",
        "# Membuat list pendidikan akhir dengan kemungkinan semakin tinggi pendapatan semakin tinggi pendidikan akhir\n",
        "pendidikan = []\n",
        "for p in pendapatan:\n",
        "    if p <= 10000000:\n",
        "        pendidikan.append(random.choice([\"SD\", \"SMP\", \"SMA\", \"D4/S1\", \"S2\"]))\n",
        "    elif p <= 25000000:\n",
        "        pendidikan.append(random.choice([\"SMA\", \"D4/S1\", \"S2\", \"S3\"]))\n",
        "    else:\n",
        "        pendidikan.append(random.choice([\"D4/S1\", \"S2\", \"S3\"]))\n",
        "\n",
        "# Membuat list status perkawinan secara random\n",
        "status = []\n",
        "for u in usia:\n",
        "    if u < 30:\n",
        "      status.append(random.choice([0, 0, 0, 0, 0, 0, 1]))\n",
        "    elif u < 40:\n",
        "      status.append(random.choice([0, 1, 1, 1]))\n",
        "    else:\n",
        "      status.append(random.choice([0, 1, 1, 1, 1, 1, 1]))\n",
        "\n",
        "\n",
        "\n",
        "# Menggabungkan list ke dalam dataframe\n",
        "df = pd.DataFrame({'usia': usia, 'pendapatan': pendapatan, 'pengeluaran': pengeluaran,\n",
        "                   'pendidikan_akhir': pendidikan, 'status_perkawinan': status})\n",
        "\n",
        "# Merubah akhiran pendapatan menjadi 000\n",
        "df['pendapatan'] = df['pendapatan'].apply(lambda x: x - x % 1000)\n",
        "\n",
        "df"
      ],
      "metadata": {
        "id": "hHmD93hfS9Hb",
        "outputId": "417515b4-0a11-448e-96af-b873ed3fbbdf",
        "colab": {
          "base_uri": "https://localhost:8080/",
          "height": 424
        }
      },
      "execution_count": 678,
      "outputs": [
        {
          "output_type": "execute_result",
          "data": {
            "text/plain": [
              "      usia  pendapatan  pengeluaran pendidikan_akhir  status_perkawinan\n",
              "0       29    10199000      1549440            D4/S1                  0\n",
              "1       28    11967000      1670300            D4/S1                  0\n",
              "2       29     8024000       259722               S2                  0\n",
              "3       25     3819000        98662               S2                  1\n",
              "4       30    11086000      1449549               S3                  1\n",
              "...    ...         ...          ...              ...                ...\n",
              "8695    60    14409000      1816824               S3                  1\n",
              "8696    57    15623000      2593463               S3                  1\n",
              "8697    57    21473000      3566747               S3                  1\n",
              "8698    49    12036000      1590393              SMA                  1\n",
              "8699    58    14471000      1874170              SMA                  0\n",
              "\n",
              "[8700 rows x 5 columns]"
            ],
            "text/html": [
              "\n",
              "  <div id=\"df-05ec0b26-aa48-474c-ae3c-7a81cabbace4\">\n",
              "    <div class=\"colab-df-container\">\n",
              "      <div>\n",
              "<style scoped>\n",
              "    .dataframe tbody tr th:only-of-type {\n",
              "        vertical-align: middle;\n",
              "    }\n",
              "\n",
              "    .dataframe tbody tr th {\n",
              "        vertical-align: top;\n",
              "    }\n",
              "\n",
              "    .dataframe thead th {\n",
              "        text-align: right;\n",
              "    }\n",
              "</style>\n",
              "<table border=\"1\" class=\"dataframe\">\n",
              "  <thead>\n",
              "    <tr style=\"text-align: right;\">\n",
              "      <th></th>\n",
              "      <th>usia</th>\n",
              "      <th>pendapatan</th>\n",
              "      <th>pengeluaran</th>\n",
              "      <th>pendidikan_akhir</th>\n",
              "      <th>status_perkawinan</th>\n",
              "    </tr>\n",
              "  </thead>\n",
              "  <tbody>\n",
              "    <tr>\n",
              "      <th>0</th>\n",
              "      <td>29</td>\n",
              "      <td>10199000</td>\n",
              "      <td>1549440</td>\n",
              "      <td>D4/S1</td>\n",
              "      <td>0</td>\n",
              "    </tr>\n",
              "    <tr>\n",
              "      <th>1</th>\n",
              "      <td>28</td>\n",
              "      <td>11967000</td>\n",
              "      <td>1670300</td>\n",
              "      <td>D4/S1</td>\n",
              "      <td>0</td>\n",
              "    </tr>\n",
              "    <tr>\n",
              "      <th>2</th>\n",
              "      <td>29</td>\n",
              "      <td>8024000</td>\n",
              "      <td>259722</td>\n",
              "      <td>S2</td>\n",
              "      <td>0</td>\n",
              "    </tr>\n",
              "    <tr>\n",
              "      <th>3</th>\n",
              "      <td>25</td>\n",
              "      <td>3819000</td>\n",
              "      <td>98662</td>\n",
              "      <td>S2</td>\n",
              "      <td>1</td>\n",
              "    </tr>\n",
              "    <tr>\n",
              "      <th>4</th>\n",
              "      <td>30</td>\n",
              "      <td>11086000</td>\n",
              "      <td>1449549</td>\n",
              "      <td>S3</td>\n",
              "      <td>1</td>\n",
              "    </tr>\n",
              "    <tr>\n",
              "      <th>...</th>\n",
              "      <td>...</td>\n",
              "      <td>...</td>\n",
              "      <td>...</td>\n",
              "      <td>...</td>\n",
              "      <td>...</td>\n",
              "    </tr>\n",
              "    <tr>\n",
              "      <th>8695</th>\n",
              "      <td>60</td>\n",
              "      <td>14409000</td>\n",
              "      <td>1816824</td>\n",
              "      <td>S3</td>\n",
              "      <td>1</td>\n",
              "    </tr>\n",
              "    <tr>\n",
              "      <th>8696</th>\n",
              "      <td>57</td>\n",
              "      <td>15623000</td>\n",
              "      <td>2593463</td>\n",
              "      <td>S3</td>\n",
              "      <td>1</td>\n",
              "    </tr>\n",
              "    <tr>\n",
              "      <th>8697</th>\n",
              "      <td>57</td>\n",
              "      <td>21473000</td>\n",
              "      <td>3566747</td>\n",
              "      <td>S3</td>\n",
              "      <td>1</td>\n",
              "    </tr>\n",
              "    <tr>\n",
              "      <th>8698</th>\n",
              "      <td>49</td>\n",
              "      <td>12036000</td>\n",
              "      <td>1590393</td>\n",
              "      <td>SMA</td>\n",
              "      <td>1</td>\n",
              "    </tr>\n",
              "    <tr>\n",
              "      <th>8699</th>\n",
              "      <td>58</td>\n",
              "      <td>14471000</td>\n",
              "      <td>1874170</td>\n",
              "      <td>SMA</td>\n",
              "      <td>0</td>\n",
              "    </tr>\n",
              "  </tbody>\n",
              "</table>\n",
              "<p>8700 rows × 5 columns</p>\n",
              "</div>\n",
              "      <button class=\"colab-df-convert\" onclick=\"convertToInteractive('df-05ec0b26-aa48-474c-ae3c-7a81cabbace4')\"\n",
              "              title=\"Convert this dataframe to an interactive table.\"\n",
              "              style=\"display:none;\">\n",
              "        \n",
              "  <svg xmlns=\"http://www.w3.org/2000/svg\" height=\"24px\"viewBox=\"0 0 24 24\"\n",
              "       width=\"24px\">\n",
              "    <path d=\"M0 0h24v24H0V0z\" fill=\"none\"/>\n",
              "    <path d=\"M18.56 5.44l.94 2.06.94-2.06 2.06-.94-2.06-.94-.94-2.06-.94 2.06-2.06.94zm-11 1L8.5 8.5l.94-2.06 2.06-.94-2.06-.94L8.5 2.5l-.94 2.06-2.06.94zm10 10l.94 2.06.94-2.06 2.06-.94-2.06-.94-.94-2.06-.94 2.06-2.06.94z\"/><path d=\"M17.41 7.96l-1.37-1.37c-.4-.4-.92-.59-1.43-.59-.52 0-1.04.2-1.43.59L10.3 9.45l-7.72 7.72c-.78.78-.78 2.05 0 2.83L4 21.41c.39.39.9.59 1.41.59.51 0 1.02-.2 1.41-.59l7.78-7.78 2.81-2.81c.8-.78.8-2.07 0-2.86zM5.41 20L4 18.59l7.72-7.72 1.47 1.35L5.41 20z\"/>\n",
              "  </svg>\n",
              "      </button>\n",
              "      \n",
              "  <style>\n",
              "    .colab-df-container {\n",
              "      display:flex;\n",
              "      flex-wrap:wrap;\n",
              "      gap: 12px;\n",
              "    }\n",
              "\n",
              "    .colab-df-convert {\n",
              "      background-color: #E8F0FE;\n",
              "      border: none;\n",
              "      border-radius: 50%;\n",
              "      cursor: pointer;\n",
              "      display: none;\n",
              "      fill: #1967D2;\n",
              "      height: 32px;\n",
              "      padding: 0 0 0 0;\n",
              "      width: 32px;\n",
              "    }\n",
              "\n",
              "    .colab-df-convert:hover {\n",
              "      background-color: #E2EBFA;\n",
              "      box-shadow: 0px 1px 2px rgba(60, 64, 67, 0.3), 0px 1px 3px 1px rgba(60, 64, 67, 0.15);\n",
              "      fill: #174EA6;\n",
              "    }\n",
              "\n",
              "    [theme=dark] .colab-df-convert {\n",
              "      background-color: #3B4455;\n",
              "      fill: #D2E3FC;\n",
              "    }\n",
              "\n",
              "    [theme=dark] .colab-df-convert:hover {\n",
              "      background-color: #434B5C;\n",
              "      box-shadow: 0px 1px 3px 1px rgba(0, 0, 0, 0.15);\n",
              "      filter: drop-shadow(0px 1px 2px rgba(0, 0, 0, 0.3));\n",
              "      fill: #FFFFFF;\n",
              "    }\n",
              "  </style>\n",
              "\n",
              "      <script>\n",
              "        const buttonEl =\n",
              "          document.querySelector('#df-05ec0b26-aa48-474c-ae3c-7a81cabbace4 button.colab-df-convert');\n",
              "        buttonEl.style.display =\n",
              "          google.colab.kernel.accessAllowed ? 'block' : 'none';\n",
              "\n",
              "        async function convertToInteractive(key) {\n",
              "          const element = document.querySelector('#df-05ec0b26-aa48-474c-ae3c-7a81cabbace4');\n",
              "          const dataTable =\n",
              "            await google.colab.kernel.invokeFunction('convertToInteractive',\n",
              "                                                     [key], {});\n",
              "          if (!dataTable) return;\n",
              "\n",
              "          const docLinkHtml = 'Like what you see? Visit the ' +\n",
              "            '<a target=\"_blank\" href=https://colab.research.google.com/notebooks/data_table.ipynb>data table notebook</a>'\n",
              "            + ' to learn more about interactive tables.';\n",
              "          element.innerHTML = '';\n",
              "          dataTable['output_type'] = 'display_data';\n",
              "          await google.colab.output.renderOutput(dataTable, element);\n",
              "          const docLink = document.createElement('div');\n",
              "          docLink.innerHTML = docLinkHtml;\n",
              "          element.appendChild(docLink);\n",
              "        }\n",
              "      </script>\n",
              "    </div>\n",
              "  </div>\n",
              "  "
            ]
          },
          "metadata": {},
          "execution_count": 678
        }
      ]
    },
    {
      "cell_type": "markdown",
      "source": [
        "## Data Preprocessing"
      ],
      "metadata": {
        "id": "JHUvTQMU-3mD"
      }
    },
    {
      "cell_type": "markdown",
      "source": [
        "Disini, tugas anda adalah melakukan beberapa ***treatment***, atau \"tindakan\" terhadap data. Anda akan mengubah susunan dan bentuk data, pembersihan, dan validasi. (Lakukan jika perlu)"
      ],
      "metadata": {
        "id": "v959nhkp_6Gu"
      }
    },
    {
      "cell_type": "markdown",
      "source": [
        "##Data Wrangling"
      ],
      "metadata": {
        "id": "FASxZK9H86EX"
      }
    },
    {
      "cell_type": "markdown",
      "source": [
        "Lakukan pengubahan struktur data anda! (Jika perlu):"
      ],
      "metadata": {
        "id": "hc7GBucc9rEX"
      }
    },
    {
      "cell_type": "code",
      "source": [
        "# Menghilangkan variabel yang tidak relevan\n",
        "df = df.drop(['pendidikan_akhir', 'pendapatan'], axis=1)\n",
        "df"
      ],
      "metadata": {
        "colab": {
          "base_uri": "https://localhost:8080/",
          "height": 424
        },
        "id": "Q7yXW8iTG50H",
        "outputId": "90571348-2e22-4d0f-d00c-af53f74fd3b8"
      },
      "execution_count": 679,
      "outputs": [
        {
          "output_type": "execute_result",
          "data": {
            "text/plain": [
              "      usia  pengeluaran  status_perkawinan\n",
              "0       29      1549440                  0\n",
              "1       28      1670300                  0\n",
              "2       29       259722                  0\n",
              "3       25        98662                  1\n",
              "4       30      1449549                  1\n",
              "...    ...          ...                ...\n",
              "8695    60      1816824                  1\n",
              "8696    57      2593463                  1\n",
              "8697    57      3566747                  1\n",
              "8698    49      1590393                  1\n",
              "8699    58      1874170                  0\n",
              "\n",
              "[8700 rows x 3 columns]"
            ],
            "text/html": [
              "\n",
              "  <div id=\"df-5490c6e1-fb93-489a-8039-4aa547c69199\">\n",
              "    <div class=\"colab-df-container\">\n",
              "      <div>\n",
              "<style scoped>\n",
              "    .dataframe tbody tr th:only-of-type {\n",
              "        vertical-align: middle;\n",
              "    }\n",
              "\n",
              "    .dataframe tbody tr th {\n",
              "        vertical-align: top;\n",
              "    }\n",
              "\n",
              "    .dataframe thead th {\n",
              "        text-align: right;\n",
              "    }\n",
              "</style>\n",
              "<table border=\"1\" class=\"dataframe\">\n",
              "  <thead>\n",
              "    <tr style=\"text-align: right;\">\n",
              "      <th></th>\n",
              "      <th>usia</th>\n",
              "      <th>pengeluaran</th>\n",
              "      <th>status_perkawinan</th>\n",
              "    </tr>\n",
              "  </thead>\n",
              "  <tbody>\n",
              "    <tr>\n",
              "      <th>0</th>\n",
              "      <td>29</td>\n",
              "      <td>1549440</td>\n",
              "      <td>0</td>\n",
              "    </tr>\n",
              "    <tr>\n",
              "      <th>1</th>\n",
              "      <td>28</td>\n",
              "      <td>1670300</td>\n",
              "      <td>0</td>\n",
              "    </tr>\n",
              "    <tr>\n",
              "      <th>2</th>\n",
              "      <td>29</td>\n",
              "      <td>259722</td>\n",
              "      <td>0</td>\n",
              "    </tr>\n",
              "    <tr>\n",
              "      <th>3</th>\n",
              "      <td>25</td>\n",
              "      <td>98662</td>\n",
              "      <td>1</td>\n",
              "    </tr>\n",
              "    <tr>\n",
              "      <th>4</th>\n",
              "      <td>30</td>\n",
              "      <td>1449549</td>\n",
              "      <td>1</td>\n",
              "    </tr>\n",
              "    <tr>\n",
              "      <th>...</th>\n",
              "      <td>...</td>\n",
              "      <td>...</td>\n",
              "      <td>...</td>\n",
              "    </tr>\n",
              "    <tr>\n",
              "      <th>8695</th>\n",
              "      <td>60</td>\n",
              "      <td>1816824</td>\n",
              "      <td>1</td>\n",
              "    </tr>\n",
              "    <tr>\n",
              "      <th>8696</th>\n",
              "      <td>57</td>\n",
              "      <td>2593463</td>\n",
              "      <td>1</td>\n",
              "    </tr>\n",
              "    <tr>\n",
              "      <th>8697</th>\n",
              "      <td>57</td>\n",
              "      <td>3566747</td>\n",
              "      <td>1</td>\n",
              "    </tr>\n",
              "    <tr>\n",
              "      <th>8698</th>\n",
              "      <td>49</td>\n",
              "      <td>1590393</td>\n",
              "      <td>1</td>\n",
              "    </tr>\n",
              "    <tr>\n",
              "      <th>8699</th>\n",
              "      <td>58</td>\n",
              "      <td>1874170</td>\n",
              "      <td>0</td>\n",
              "    </tr>\n",
              "  </tbody>\n",
              "</table>\n",
              "<p>8700 rows × 3 columns</p>\n",
              "</div>\n",
              "      <button class=\"colab-df-convert\" onclick=\"convertToInteractive('df-5490c6e1-fb93-489a-8039-4aa547c69199')\"\n",
              "              title=\"Convert this dataframe to an interactive table.\"\n",
              "              style=\"display:none;\">\n",
              "        \n",
              "  <svg xmlns=\"http://www.w3.org/2000/svg\" height=\"24px\"viewBox=\"0 0 24 24\"\n",
              "       width=\"24px\">\n",
              "    <path d=\"M0 0h24v24H0V0z\" fill=\"none\"/>\n",
              "    <path d=\"M18.56 5.44l.94 2.06.94-2.06 2.06-.94-2.06-.94-.94-2.06-.94 2.06-2.06.94zm-11 1L8.5 8.5l.94-2.06 2.06-.94-2.06-.94L8.5 2.5l-.94 2.06-2.06.94zm10 10l.94 2.06.94-2.06 2.06-.94-2.06-.94-.94-2.06-.94 2.06-2.06.94z\"/><path d=\"M17.41 7.96l-1.37-1.37c-.4-.4-.92-.59-1.43-.59-.52 0-1.04.2-1.43.59L10.3 9.45l-7.72 7.72c-.78.78-.78 2.05 0 2.83L4 21.41c.39.39.9.59 1.41.59.51 0 1.02-.2 1.41-.59l7.78-7.78 2.81-2.81c.8-.78.8-2.07 0-2.86zM5.41 20L4 18.59l7.72-7.72 1.47 1.35L5.41 20z\"/>\n",
              "  </svg>\n",
              "      </button>\n",
              "      \n",
              "  <style>\n",
              "    .colab-df-container {\n",
              "      display:flex;\n",
              "      flex-wrap:wrap;\n",
              "      gap: 12px;\n",
              "    }\n",
              "\n",
              "    .colab-df-convert {\n",
              "      background-color: #E8F0FE;\n",
              "      border: none;\n",
              "      border-radius: 50%;\n",
              "      cursor: pointer;\n",
              "      display: none;\n",
              "      fill: #1967D2;\n",
              "      height: 32px;\n",
              "      padding: 0 0 0 0;\n",
              "      width: 32px;\n",
              "    }\n",
              "\n",
              "    .colab-df-convert:hover {\n",
              "      background-color: #E2EBFA;\n",
              "      box-shadow: 0px 1px 2px rgba(60, 64, 67, 0.3), 0px 1px 3px 1px rgba(60, 64, 67, 0.15);\n",
              "      fill: #174EA6;\n",
              "    }\n",
              "\n",
              "    [theme=dark] .colab-df-convert {\n",
              "      background-color: #3B4455;\n",
              "      fill: #D2E3FC;\n",
              "    }\n",
              "\n",
              "    [theme=dark] .colab-df-convert:hover {\n",
              "      background-color: #434B5C;\n",
              "      box-shadow: 0px 1px 3px 1px rgba(0, 0, 0, 0.15);\n",
              "      filter: drop-shadow(0px 1px 2px rgba(0, 0, 0, 0.3));\n",
              "      fill: #FFFFFF;\n",
              "    }\n",
              "  </style>\n",
              "\n",
              "      <script>\n",
              "        const buttonEl =\n",
              "          document.querySelector('#df-5490c6e1-fb93-489a-8039-4aa547c69199 button.colab-df-convert');\n",
              "        buttonEl.style.display =\n",
              "          google.colab.kernel.accessAllowed ? 'block' : 'none';\n",
              "\n",
              "        async function convertToInteractive(key) {\n",
              "          const element = document.querySelector('#df-5490c6e1-fb93-489a-8039-4aa547c69199');\n",
              "          const dataTable =\n",
              "            await google.colab.kernel.invokeFunction('convertToInteractive',\n",
              "                                                     [key], {});\n",
              "          if (!dataTable) return;\n",
              "\n",
              "          const docLinkHtml = 'Like what you see? Visit the ' +\n",
              "            '<a target=\"_blank\" href=https://colab.research.google.com/notebooks/data_table.ipynb>data table notebook</a>'\n",
              "            + ' to learn more about interactive tables.';\n",
              "          element.innerHTML = '';\n",
              "          dataTable['output_type'] = 'display_data';\n",
              "          await google.colab.output.renderOutput(dataTable, element);\n",
              "          const docLink = document.createElement('div');\n",
              "          docLink.innerHTML = docLinkHtml;\n",
              "          element.appendChild(docLink);\n",
              "        }\n",
              "      </script>\n",
              "    </div>\n",
              "  </div>\n",
              "  "
            ]
          },
          "metadata": {},
          "execution_count": 679
        }
      ]
    },
    {
      "cell_type": "markdown",
      "source": [
        "### Data Cleansing"
      ],
      "metadata": {
        "id": "unsyOQO1-uTS"
      }
    },
    {
      "cell_type": "markdown",
      "source": [
        "Bersihkan data yang akan anda gunakan (Jika perlu)"
      ],
      "metadata": {
        "id": "vEYO-TqSB66S"
      }
    },
    {
      "cell_type": "code",
      "source": [
        "# Tidak perlu dilakukan cleaning, karena tidak mungkin ada data null/kosong"
      ],
      "metadata": {
        "id": "HD5Q5345-tBA"
      },
      "execution_count": 680,
      "outputs": []
    },
    {
      "cell_type": "markdown",
      "source": [
        "## Model Creation"
      ],
      "metadata": {
        "id": "8ED3D1aI92Ps"
      }
    },
    {
      "cell_type": "markdown",
      "source": [
        "Lakukan Training dan Tentukan Cluster yang akan anda gunakan!"
      ],
      "metadata": {
        "id": "rvF8wsos95p0"
      }
    },
    {
      "cell_type": "code",
      "source": [
        "from sklearn.cluster import KMeans\n",
        "from sklearn.preprocessing import MinMaxScaler\n",
        "import matplotlib.pyplot as plt\n",
        "from sklearn.model_selection import train_test_split\n",
        "\n",
        "# Melakukan normalisasi data\n",
        "X = df\n",
        "scaler = MinMaxScaler()\n",
        "X_scaled = scaler.fit_transform(X)\n",
        "\n",
        "# Membagi dataset menjadi training dan testing\n",
        "X_train, X_test = train_test_split(X, test_size=0.2, random_state=42)\n",
        "\n",
        "# Menentukan jumlah cluster yang optimal dengan metode elbow\n",
        "wcss = []\n",
        "for i in range(1, 11):\n",
        "    kmeans = KMeans(n_clusters=i, init='k-means++', random_state=42, n_init='auto')\n",
        "    kmeans.fit(X_train)\n",
        "    wcss.append(kmeans.inertia_)\n",
        "plt.plot(range(1, 11), wcss)\n",
        "plt.title('Metode Elbow')\n",
        "plt.xlabel('Jumlah Cluster')\n",
        "plt.ylabel('WCSS')\n",
        "plt.show()"
      ],
      "metadata": {
        "id": "-anVU0fm7v8a",
        "colab": {
          "base_uri": "https://localhost:8080/",
          "height": 472
        },
        "outputId": "614c4b1e-e7d3-4024-aac8-4ccb0426e6aa"
      },
      "execution_count": 681,
      "outputs": [
        {
          "output_type": "display_data",
          "data": {
            "text/plain": [
              "<Figure size 640x480 with 1 Axes>"
            ],
            "image/png": "[encoded data removed]"
          },
          "metadata": {}
        }
      ]
    },
    {
      "cell_type": "code",
      "source": [
        "# Menentukan jumlah cluster yang optimal dengan metode silhouette\n",
        "from sklearn.metrics import silhouette_score\n",
        "sil = []\n",
        "kmax = 10\n",
        "for k in range(2, kmax+1):\n",
        "  kmeans = KMeans(n_clusters = k, n_init='auto').fit(X_train)\n",
        "  labels = kmeans.labels_\n",
        "  sil.append(silhouette_score(X_train, labels, metric = 'euclidean'))\n",
        "plt.plot(range(2, kmax+1), sil)\n",
        "plt.title('Metode Silhouette')\n",
        "plt.xlabel('Jumlah Cluster')\n",
        "plt.ylabel('Silhouette Score')\n",
        "plt.show()"
      ],
      "metadata": {
        "colab": {
          "base_uri": "https://localhost:8080/",
          "height": 472
        },
        "id": "394Slg0FXhoT",
        "outputId": "41fad5b1-6894-4fdd-f665-9bad3504caa7"
      },
      "execution_count": 682,
      "outputs": [
        {
          "output_type": "display_data",
          "data": {
            "text/plain": [
              "<Figure size 640x480 with 1 Axes>"
            ],
            "image/png": "[encoded data removed]"
          },
          "metadata": {}
        }
      ]
    },
    {
      "cell_type": "markdown",
      "source": [
        "Setelah itu, kita menentukan jumlah cluster yang optimal dengan menggunakan metode elbow dan silhouette. Pada contoh kode di atas, saya menggunakan jumlah cluster sebanyak 4 karena telah ditemukan sebagai jumlah cluster yang optimal."
      ],
      "metadata": {
        "id": "smFghiw-YIh1"
      }
    },
    {
      "cell_type": "code",
      "source": [
        "# Menggunakan algoritma K-Means dengan jumlah cluster yang optimal\n",
        "kmeans = KMeans(n_clusters=3, init='k-means++', random_state=42, n_init='auto')\n",
        "kmeans.fit(X_train)\n",
        "\n",
        "# Menambahkan kolom cluster ke dalam dataframe\n",
        "X_train['cluster'] = kmeans.labels_\n",
        "\n",
        "# Melihat hasil clustering pada setiap cluster\n",
        "print(X_train.groupby('cluster').mean())"
      ],
      "metadata": {
        "colab": {
          "base_uri": "https://localhost:8080/"
        },
        "id": "13csrgo9YR6k",
        "outputId": "3427be1a-929f-4f97-a647-8ea6523313c4"
      },
      "execution_count": 683,
      "outputs": [
        {
          "output_type": "stream",
          "name": "stdout",
          "text": [
            "              usia   pengeluaran  status_perkawinan\n",
            "cluster                                            \n",
            "0        38.454388  2.125916e+06           0.635597\n",
            "1        31.320375  2.155540e+05           0.445679\n",
            "2        59.044444  7.179458e+06           0.911111\n"
          ]
        }
      ]
    },
    {
      "cell_type": "markdown",
      "source": [
        "### Model Testing"
      ],
      "metadata": {
        "id": "aI0SdW4Y-LxJ"
      }
    },
    {
      "cell_type": "markdown",
      "source": [
        "Lakukan Evaluasi terhadap model anda!"
      ],
      "metadata": {
        "id": "bRIir-_88Rs4"
      }
    },
    {
      "cell_type": "code",
      "source": [
        "# Lakukan Evaluasi terhadap Model anda menggunakan Skor Silhouette\n",
        "from sklearn.metrics import silhouette_score\n",
        "\n",
        "# Melakukan prediksi cluster dengan K-Means\n",
        "clusters = kmeans.predict(X_test)\n",
        "\n",
        "# Menghitung skor silhouette\n",
        "silhouette_avg = silhouette_score(X_test, clusters)\n",
        "\n",
        "print(\"Skor Silhouette untuk model K-Means adalah:\", silhouette_avg)"
      ],
      "metadata": {
        "id": "qvGPJzQD8FiY",
        "colab": {
          "base_uri": "https://localhost:8080/"
        },
        "outputId": "84018cc9-af5f-4454-d10f-043a819e772f"
      },
      "execution_count": 684,
      "outputs": [
        {
          "output_type": "stream",
          "name": "stdout",
          "text": [
            "Skor Silhouette untuk model K-Means adalah: 0.7792082351817138\n"
          ]
        }
      ]
    },
    {
      "cell_type": "markdown",
      "source": [
        "### Data Visualization"
      ],
      "metadata": {
        "id": "8gHmk-Bn-Ulh"
      }
    },
    {
      "cell_type": "markdown",
      "source": [
        "Tampilkan Cluster anda menggunakan plot, boleh scatterplot atau heatmap."
      ],
      "metadata": {
        "id": "hc9uj0b-9Mye"
      }
    },
    {
      "cell_type": "code",
      "source": [
        "# Visualisasikan Cluster anda disini\n",
        "# Menggunakan heatmap karena menggunakan lebih dari 2 variabel\n",
        "import seaborn as sns\n",
        "\n",
        "# create heatmap to visualize cluster means for each variable\n",
        "sns.heatmap(X_train.groupby('cluster').mean(), cmap='YlGnBu', annot=True, fmt='.2f')\n",
        "plt.show()"
      ],
      "metadata": {
        "id": "3TJ0c2i68RFH",
        "colab": {
          "base_uri": "https://localhost:8080/",
          "height": 445
        },
        "outputId": "762b7ff3-41d3-4cdf-83e5-7349abb54a1f"
      },
      "execution_count": 685,
      "outputs": [
        {
          "output_type": "display_data",
          "data": {
            "text/plain": [
              "<Figure size 640x480 with 2 Axes>"
            ],
            "image/png": "[encoded data removed]"
          },
          "metadata": {}
        }
      ]
    },
    {
      "cell_type": "markdown",
      "source": [
        "### Kesimpulan"
      ],
      "metadata": {
        "id": "J8-MZSt4-Ymx"
      }
    },
    {
      "cell_type": "markdown",
      "source": [
        "Hasil analisis K-Means menunjukkan bahwa data pelanggan telah dikelompokkan menjadi tiga klaster berdasarkan variabel usia, pengeluaran, dan status_perkawinan.\n",
        "\n",
        "Klaster 0 memiliki rata-rata usia sebesar 38.45 tahun, rata-rata pengeluaran sebesar 2.125.916 juta rupiah per bulan untuk produk rumah tangga, dan mayoritas pelanggan belum menikah (status_perkawinan = 0).\n",
        "\n",
        "Klaster 1 memiliki rata-rata usia sebesar 31.32 tahun, rata-rata pengeluaran sebesar 215.554 ribu rupiah per bulan untuk produk rumah tangga, dan mayoritas pelanggan belum menikah (status_perkawinan = 0).\n",
        "\n",
        "Klaster 2 memiliki rata-rata usia sebesar 59.04 tahun, rata-rata pengeluaran sebesar 7.179.458 juta rupiah per bulan untuk produk rumah tangga, dan mayoritas pelanggan sudah menikah (status_perkawinan = 1).\n",
        "\n",
        "Dari hasil analisis K-Means, dapat disimpulkan bahwa klaster 0 dan klaster 1 memiliki kemiripan dalam hal status perkawinan dan pengeluaran, namun berbeda dalam hal usia. Sementara itu, klaster 2 memiliki karakteristik yang berbeda dari kedua klaster sebelumnya, dengan usia yang lebih tua dan pengeluaran yang jauh lebih tinggi.\n",
        "\n",
        "Perusahaan dapat menggunakan hasil analisis ini untuk mengembangkan strategi pemasaran yang lebih efektif dan sesuai dengan karakteristik masing-masing klaster. Misalnya, untuk klaster 2, perusahaan dapat menawarkan produk-produk dengan harga yang lebih tinggi atau berkualitas lebih baik, sementara untuk klaster 0 dan 1, perusahaan dapat menawarkan produk-produk dengan harga yang lebih terjangkau.\n",
        "\n",
        "\n",
        "\n",
        "\n",
        "\n",
        "\n",
        "\n"
      ],
      "metadata": {
        "id": "s77QVOb5AwWd"
      }
    }
  ]
}